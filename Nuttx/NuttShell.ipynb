{
 "cells": [
  {
   "cell_type": "markdown",
   "metadata": {},
   "source": [
    "# NuttShell Note\n",
    "\n",
    "* [NuttShell Doc](http://nuttx.org/doku.php?id=documentation:nuttshell)\n",
    "\n",
    "\n",
    "## PX4 add custom modules(uavcan, ecl, etc) as NSH \"Built-In\" Applications\n",
    "\n",
    "\n",
    "    About NSH \"Built-In\" Applications :\n",
    "\n",
    "    Overview. In addition to these commands that are a part of NSH, external programs can also be executed as NSH commands. These external programs are called \"Built-In\" Applications for historic reasons. That terminology is somewhat confusing because the actual NSH commands as described above are truly \"built-into\" NSH whereas these applications are really external to NuttX.\n",
    "\n",
    "    These applications are built-into NSH in the sense that they can be executed by simply typing the name of the application at the NSH prompt. Built-in application support is enabled with these configuration option:\n",
    "\n",
    "    CONFIG_BUILTIN: Enable NuttX support for builtin applications.\n",
    "    CONFIG_NSH_BUILTIN_APPS: Enable NSH support for builtin applications.\n",
    "    When these configuration options are set, you will also be able to see the built-in applications if you enter \"nsh> help\". They will appear at the bottom of the list of NSH commands under:\n",
    "\n",
    "    Builtin Apps:\n",
    "\n",
    "---\n",
    "\n",
    "## NSH default commands executes priority\n",
    "\n",
    "    nice'd Background Commands NSH executes at the mid-priority (128). Backgrounded commands can be made to execute at higher or lower     priorities using nice:\n",
    "                        [nice [-d <niceness>>]] <cmd> [> <file>|>> <file>] [&]\n",
    "    Where <niceness> is any value between -20 and 19 where lower (more negative values) correspond to higher priorities. The default niceness is  10.\n",
    "\n",
    "---\n",
    "\n",
    "## Register custom commands\n",
    "\n",
    "<pre>Logic for the context target in apps/examples/hello/Makefile registers the hello_main() application in the builtin's builtin_proto.hand builtin_list.h files. That logic that does that in apps/examples/hello/Makefile is abstracted below:\n",
    "\n",
    "First, the Makefile includes apps/Make.defs:\n",
    "\n",
    "include $(APPDIR)/Make.defs\n",
    "This defines a macro called REGISTER that adds data to the builtin header files:\n",
    "\n",
    "define REGISTER\n",
    "    @echo \"Register: $1\"\n",
    "    @echo \"{ \\\"$1\\\", $2, $3, $4 },\" >> \"$(APPDIR)/builtin/builtin_list.h\"\n",
    "    @echo \"EXTERN int $4(int argc, char *argv[]);\" >> \"$(APPDIR)/builtin/builtin_proto.h\"\n",
    "endef\n",
    "When this macro runs, you will see the output in the build \"Register: hello\", that is a sure sign that the registration was successful.\n",
    "\n",
    "The make file then defines the application name (hello), the task priority (default), and the stack size that will be allocated in the task runs (2K).\n",
    "\n",
    "APPNAME         = hello\n",
    "PRIORITY        = SCHED_PRIORITY_DEFAULT\n",
    "STACKSIZE       = 2048\n",
    "And finally, the Makefile invokes the REGISTER macro to added the hello_main() builtin application. Then, when the system build completes, the hello command can be executed from the NSH command line. When the hello command is executed, it will start the task with entry point hello_main() with the default priority and with a stack size of 2K.\n",
    "\n",
    "context:\n",
    "  $(call REGISTER,$(APPNAME),$(PRIORITY),$(STACKSIZE),$(APPNAME)_main)\n",
    "</pre>"
   ]
  },
  {
   "cell_type": "code",
   "execution_count": null,
   "metadata": {
    "collapsed": true
   },
   "outputs": [],
   "source": []
  },
  {
   "cell_type": "code",
   "execution_count": null,
   "metadata": {
    "collapsed": true
   },
   "outputs": [],
   "source": []
  }
 ],
 "metadata": {
  "kernelspec": {
   "display_name": "Python 3",
   "language": "python",
   "name": "python3"
  },
  "language_info": {
   "codemirror_mode": {
    "name": "ipython",
    "version": 3
   },
   "file_extension": ".py",
   "mimetype": "text/x-python",
   "name": "python",
   "nbconvert_exporter": "python",
   "pygments_lexer": "ipython3",
   "version": "3.6.5"
  }
 },
 "nbformat": 4,
 "nbformat_minor": 2
}
