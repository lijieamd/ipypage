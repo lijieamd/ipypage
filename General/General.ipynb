{
 "cells": [
  {
   "cell_type": "markdown",
   "metadata": {},
   "source": [
    "# SSH key\n",
    "* 1.generate ssh key:\n",
    "    ```shell\n",
    "    ssh-keygen -t rsa -b 4096 -C \"your_email@example.com\"\n",
    "    ```\n",
    "* 2.add to ssh agent\n",
    "    ```shell\n",
    "    ssh-add ~/.ssh/id_rsa\n",
    "    ```\n",
    "* 3.add to GITHUB setting\n",
    "\n",
    "---\n",
    "\n",
    "# Add Existing Project To Git Repo\n",
    "* 1.Create a new repository on GitHub\n",
    "* 2.Init local repository\n",
    "* 3.Add remote to local repository\n",
    "    ```shell\n",
    "    git remote add origin git@github.com:lijieamd/toyquad.git\n",
    "    ```\n",
    "* 4.Push local to remote\n",
    "    ```shell\n",
    "    git push -u origin master\n",
    "    ```"
   ]
  },
  {
   "cell_type": "code",
   "execution_count": null,
   "metadata": {
    "collapsed": true
   },
   "outputs": [],
   "source": []
  }
 ],
 "metadata": {
  "kernelspec": {
   "display_name": "Python 3",
   "language": "python",
   "name": "python3"
  },
  "language_info": {
   "codemirror_mode": {
    "name": "ipython",
    "version": 3
   },
   "file_extension": ".py",
   "mimetype": "text/x-python",
   "name": "python",
   "nbconvert_exporter": "python",
   "pygments_lexer": "ipython3",
   "version": "3.6.1"
  }
 },
 "nbformat": 4,
 "nbformat_minor": 2
}
