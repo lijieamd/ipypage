{
 "cells": [
  {
   "cell_type": "markdown",
   "metadata": {},
   "source": [
    "# SSH key\n",
    "* 1.generate ssh key:\n",
    "    ```shell\n",
    "    ssh-keygen -t rsa -b 4096 -C \"your_email@example.com\"\n",
    "    ```\n",
    "* 2.add to ssh agent\n",
    "    ```shell\n",
    "    ssh-add ~/.ssh/id_rsa\n",
    "    ```\n",
    "* 3.add to GITHUB setting"
   ]
  },
  {
   "cell_type": "code",
   "execution_count": null,
   "metadata": {
    "collapsed": true
   },
   "outputs": [],
   "source": []
  }
 ],
 "metadata": {
  "kernelspec": {
   "display_name": "Python 3",
   "language": "python",
   "name": "python3"
  },
  "language_info": {
   "codemirror_mode": {
    "name": "ipython",
    "version": 3
   },
   "file_extension": ".py",
   "mimetype": "text/x-python",
   "name": "python",
   "nbconvert_exporter": "python",
   "pygments_lexer": "ipython3",
   "version": "3.6.1"
  }
 },
 "nbformat": 4,
 "nbformat_minor": 2
}
