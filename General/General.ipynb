{
 "cells": [
  {
   "cell_type": "markdown",
   "metadata": {},
   "source": [
    "# Shadowsocks\n",
    "```shell\n",
    "sudo add-apt-repository ppa:hzwhuang/ss-qt5\n",
    "sudo apt-get update\n",
    "sudo apt-get install shadowsocks-qt5\n",
    "\n",
    "pip install genpac\n",
    "pip install --upgrade genpac\n",
    "\n",
    "genpac --pac-proxy \"SOCKS5 127.0.0.1:1080\" --output=\"autoproxy.pac\"\n",
    "```\n",
    "\n",
    "\n",
    "# SSH key\n",
    "* 1.generate ssh key:\n",
    "    ```shell\n",
    "    ssh-keygen -t rsa -b 4096 -C \"your_email@example.com\"\n",
    "    ```\n",
    "* 2.add to ssh agent\n",
    "    ```shell\n",
    "    ssh-add ~/.ssh/id_rsa\n",
    "    ```\n",
    "* 3.add to GITHUB setting\n",
    "\n",
    "---\n",
    "\n",
    "# Add Existing Project To Git Repo\n",
    "* 1.Create a new repository on GitHub or on VPS:\n",
    "    ```shell\n",
    "    git init --bare name.git\n",
    "    ```\n",
    "* 2.Maybe some permission error later\n",
    "    ```shell\n",
    "    cd name.git\n",
    "    sudo chown -R git:git .\n",
    "    ```\n",
    "* 3.Init local repository\n",
    "    ```shell\n",
    "    git clone git@IP:/dir/name.git\n",
    "    ```\n",
    "* 4.Add remote to local repository\n",
    "    ```shell\n",
    "    git remote add origin git@github.com:lijieamd/name.git\n",
    "    git remote add origin git@IP:/dir/name.git\n",
    "    ```\n",
    "* 5.Push local to remote\n",
    "    ```shell\n",
    "    git push -u origin master\n",
    "    ```\n",
    "\n",
    "---\n",
    "\n",
    "# Centos create git server\n",
    "## create git server\n",
    "   https://rocko.xyz/2015/02/12/VPS%E4%B8%BB%E6%9C%BA%E6%90%AD%E5%BB%BAGit%E6%9C%8D%E5%8A%A1%E5%99%A8/\n",
    "   https://blog.phpgao.com/build-git-server.html\n",
    "## centos general cmd\n",
    "   http://www.haorooms.com/post/centeros_wj_zj\n",
    "   \n",
    "---\n",
    "\n",
    "# Eclipse\n",
    "## keil\n",
    "    use keil toolchain in eclipse\n",
    "   http://www.ohnitsch.net/2015/06/16/using-eclipse-instead-of-keil-c51-uvision-for-enocean-firmware-development/\n",
    "   \n",
    "   http://www.keil.com/forum/19963/"
   ]
  },
  {
   "cell_type": "code",
   "execution_count": null,
   "metadata": {
    "collapsed": true
   },
   "outputs": [],
   "source": []
  }
 ],
 "metadata": {
  "kernelspec": {
   "display_name": "Python 3",
   "language": "python",
   "name": "python3"
  },
  "language_info": {
   "codemirror_mode": {
    "name": "ipython",
    "version": 3
   },
   "file_extension": ".py",
   "mimetype": "text/x-python",
   "name": "python",
   "nbconvert_exporter": "python",
   "pygments_lexer": "ipython3",
   "version": "3.6.4"
  }
 },
 "nbformat": 4,
 "nbformat_minor": 2
}
