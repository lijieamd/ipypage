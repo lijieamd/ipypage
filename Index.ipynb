{
 "cells": [
  {
   "cell_type": "markdown",
   "metadata": {},
   "source": [
    "# Main Page\n",
    "\n",
    "Some note here\n",
    "\n",
    "---\n",
    "\n",
    "## DeepLearning\n",
    "\n",
    "### [Simple fully connected neural network](DL/simple.ipynb)\n",
    "\n",
    "---\n",
    "\n",
    "## PX4\n",
    "\n",
    "### [Development environment](PX4/develop.ipynb)\n",
    "### [Related project](PX4/related.ipynb)\n",
    "### [Build system](PX4/build.ipynb)\n",
    "### [Debug](PX4/debug.ipynb)\n",
    "### [Porting](PX4/porting.ipynb)\n",
    "### [Programming](PX4/programming.ipynb)\n",
    "### [uORB](PX4/uorb.ipynb)\n",
    "\n",
    "---\n",
    "\n",
    "## Nuttx\n",
    "\n",
    "### [NuttShell](Nuttx/NuttShell.ipynb)\n",
    "### [Schedule](Nuttx/Schedule.ipynb)\n",
    "\n",
    "---\n",
    "\n",
    "## General\n",
    "### [General](General/General.ipynb)\n"
   ]
  },
  {
   "cell_type": "code",
   "execution_count": null,
   "metadata": {
    "collapsed": true
   },
   "outputs": [],
   "source": []
  }
 ],
 "metadata": {
  "kernelspec": {
   "display_name": "Python 3",
   "language": "python",
   "name": "python3"
  },
  "language_info": {
   "codemirror_mode": {
    "name": "ipython",
    "version": 3
   },
   "file_extension": ".py",
   "mimetype": "text/x-python",
   "name": "python",
   "nbconvert_exporter": "python",
   "pygments_lexer": "ipython3",
   "version": "3.6.4"
  }
 },
 "nbformat": 4,
 "nbformat_minor": 2
}
