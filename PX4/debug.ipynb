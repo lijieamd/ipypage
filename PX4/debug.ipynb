{
 "cells": [
  {
   "cell_type": "markdown",
   "metadata": {},
   "source": [
    "# Debug Print\n",
    "All debug print to NuttShell uart port\n",
    "    \n",
    "### printf\n",
    "C standard\n",
    "\n",
    "### std::printf\n",
    "C++ standard\n",
    "\n",
    "### warnx\n",
    "the output message will have \"WARN\" prefix and \"[module]\" module name\n",
    "\n",
    "### errx\n",
    "the output message will have \"ERROR\" prefix and \"[module]\" module name\n",
    "**and program will terminate here**\n",
    "\n",
    "# Hardware debug\n",
    "### stlink\n",
    "[stlink-tools for linux](https://github.com/texane/stlink)\n",
    "\n",
    "1. use **st-util** to start stlink gdb server (this can be done in eclipse using **External Tools**)\n",
    "2. use GDB Hardware debugging to debug"
   ]
  },
  {
   "cell_type": "code",
   "execution_count": null,
   "metadata": {
    "collapsed": true
   },
   "outputs": [],
   "source": []
  }
 ],
 "metadata": {
  "kernelspec": {
   "display_name": "Python 3",
   "language": "python",
   "name": "python3"
  },
  "language_info": {
   "codemirror_mode": {
    "name": "ipython",
    "version": 2
   },
   "file_extension": ".py",
   "mimetype": "text/x-python",
   "name": "python",
   "nbconvert_exporter": "python",
   "pygments_lexer": "ipython2",
   "version": "2.7.17"
  }
 },
 "nbformat": 4,
 "nbformat_minor": 2
}
