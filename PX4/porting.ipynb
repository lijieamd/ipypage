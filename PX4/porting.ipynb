{
 "cells": [
  {
   "cell_type": "markdown",
   "metadata": {},
   "source": [
    "# Porting work\n",
    "\n",
    "## Nuttx Config\n",
    "**/Firmware/nuttx-configs/xxxx_board**\n",
    "\n",
    "## Board driver\n",
    "**/Firmware/src/drivers/boards/xxxx_board**\n",
    "\n",
    "## ROMFS\n",
    "\n",
    "## Nuttx cmake\n",
    "**/Firmware/cmake/configs/xxxx_board.cmake**\n",
    "\n",
    "## Image\n",
    "**/Firmware/Images/xxxx_board.prototype**"
   ]
  },
  {
   "cell_type": "code",
   "execution_count": null,
   "metadata": {
    "collapsed": true
   },
   "outputs": [],
   "source": []
  }
 ],
 "metadata": {
  "kernelspec": {
   "display_name": "Python 3",
   "language": "python",
   "name": "python3"
  },
  "language_info": {
   "codemirror_mode": {
    "name": "ipython",
    "version": 3
   },
   "file_extension": ".py",
   "mimetype": "text/x-python",
   "name": "python",
   "nbconvert_exporter": "python",
   "pygments_lexer": "ipython3",
   "version": "3.6.1"
  }
 },
 "nbformat": 4,
 "nbformat_minor": 2
}
