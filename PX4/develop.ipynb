{
 "cells": [
  {
   "cell_type": "markdown",
   "metadata": {},
   "source": [
    "## eclipse\n",
    "\n",
    "   https://mcuoneclipse.com/2017/07/30/breathing-with-oxygen-diy-arm-cortex-m-cc-ide-and-toolchain-with-eclipse-oxygen/\n",
    "\n",
    "## cross-gcc\n",
    "\n",
    "   https://developer.arm.com/open-source/gnu-toolchain/gnu-rm/downloads\n",
    "\n",
    "## px4 environment\n",
    "\n",
    "   https://dev.px4.io/en/setup/dev_env_linux_ubuntu.html\n",
    "    \n",
    "## use cmake\n",
    "\n",
    "    generate build dir:\n",
    "    cd build_nuttx_px4fmu-v4_default\n",
    "    cmake ../Firmware -DCONFIG=nuttx_px4fmu-v4_default\n",
    "    \n",
    "## ulog viewer\n",
    "\n",
    "* jupyter notebook\n",
    "   https://www.anaconda.com/download/\n",
    "* pyulog for parse ulog\n",
    "   https://github.com/PX4/pyulog\n",
    "* ulog viewer\n",
    "   https://github.com/lijieamd/px4_ulog_viewer"
   ]
  },
  {
   "cell_type": "code",
   "execution_count": null,
   "metadata": {
    "collapsed": true
   },
   "outputs": [],
   "source": []
  }
 ],
 "metadata": {
  "kernelspec": {
   "display_name": "Python 3",
   "language": "python",
   "name": "python3"
  },
  "language_info": {
   "codemirror_mode": {
    "name": "ipython",
    "version": 3
   },
   "file_extension": ".py",
   "mimetype": "text/x-python",
   "name": "python",
   "nbconvert_exporter": "python",
   "pygments_lexer": "ipython3",
   "version": "3.6.1"
  }
 },
 "nbformat": 4,
 "nbformat_minor": 2
}
