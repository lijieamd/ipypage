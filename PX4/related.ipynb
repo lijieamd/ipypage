{
 "cells": [
  {
   "cell_type": "markdown",
   "metadata": {
    "collapsed": true
   },
   "source": [
    "## 3DR telemetry\n",
    "  * cheap 3DR telemetry use hm_trp board\n",
    "  * Sik firmware for 3DR telemetry\n",
    "  there are 2 repository\n",
    "    1. origin: https://github.com/ArduPilot/SiK\n",
    "    2. px4 fork: https://github.com/LorenzMeier/SiK\n",
    "\n",
    "## Firmware bootloader\n",
    "   https://github.com/PX4/Bootloader\n",
    "\n",
    "## realtime data viewer\n",
    "   https://github.com/ecmnet/MAVGCL\n",
    "\n",
    "## ESC\n",
    "   https://github.com/PX4/sapog\n"
   ]
  },
  {
   "cell_type": "code",
   "execution_count": null,
   "metadata": {
    "collapsed": true
   },
   "outputs": [],
   "source": []
  }
 ],
 "metadata": {
  "kernelspec": {
   "display_name": "Python 3",
   "language": "python",
   "name": "python3"
  },
  "language_info": {
   "codemirror_mode": {
    "name": "ipython",
    "version": 3
   },
   "file_extension": ".py",
   "mimetype": "text/x-python",
   "name": "python",
   "nbconvert_exporter": "python",
   "pygments_lexer": "ipython3",
   "version": "3.6.1"
  }
 },
 "nbformat": 4,
 "nbformat_minor": 2
}
