{
 "cells": [
  {
   "cell_type": "markdown",
   "metadata": {},
   "source": [
    "# Sensors calibration\n",
    "## Calibration values\n",
    "sensors calibration result are stored in param, sensors raw value are scaled and offseted in sensor's driver, the scale and offset parameters are send to drivers using ioctl (e.g. ACCELIOCSSCALE) when parameter updated\n",
    "\n",
    "## Preflight check\n",
    "use `CAL_***_PRIME` param to check if primary sensor was calibrated, primary sensor is the sensor orb with highest priority"
   ]
  },
  {
   "cell_type": "code",
   "execution_count": null,
   "metadata": {},
   "outputs": [],
   "source": []
  }
 ],
 "metadata": {
  "kernelspec": {
   "display_name": "Python 3",
   "language": "python",
   "name": "python3"
  },
  "language_info": {
   "codemirror_mode": {
    "name": "ipython",
    "version": 3
   },
   "file_extension": ".py",
   "mimetype": "text/x-python",
   "name": "python",
   "nbconvert_exporter": "python",
   "pygments_lexer": "ipython3",
   "version": "3.6.5"
  }
 },
 "nbformat": 4,
 "nbformat_minor": 2
}
