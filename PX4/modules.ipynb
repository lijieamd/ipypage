{
 "cells": [
  {
   "cell_type": "markdown",
   "metadata": {},
   "source": [
    "# Sensors calibration\n",
    "## Calibration values\n",
    "* sensors calibration result are stored in param, sensors raw value are scaled and offseted in sensor's driver, the scale and offset parameters are send to drivers using ioctl (e.g. ACCELIOCSSCALE) when parameter updated\n",
    "* sensors calibration result are stored in param using driver index order. (e.g. d\n",
    "\n",
    "## Sensor rotation and Calibration\n",
    "* calibration module subscribe sensor driver output directly(sensor_gyro,sensor_accel,sensor_mag)\n",
    "* sensor driver's output are rotated(-R) and calibrated\n",
    "    * driver level's rotate(-R) is used to rotate the sensor to align with board coordinate\n",
    "    * SENS_BOARD_ROT param is used to rotate board(onboard sensors) to align with vehicle coordinate\n",
    "    * CAL_MAGx_ROT param is used to rotate external mag sensor to align with vehicle coordinate\n",
    "* calibration module will set calibration value(offset,scale) to default before calibrate begin, so calibration module can get raw rotated value\n",
    "\n",
    "### accel calibration module\n",
    "* accel calibration module need to tell user which vehicle orientation should be hold step by step, so it use sensor_combined(vehicle coordinate sensor value) to check orientation and use SENS_BOARD_ROT param to roate driver output(sensor_accel) to vehicle coordinate\n",
    "* so, this calibration result need be rotated back using transposed SENS_BOARD_ROT then pass to driver level\n",
    "\n",
    "## Preflight check\n",
    "use `CAL_***_PRIME` param to check if primary sensor was calibrated, primary sensor is the sensor orb with highest priority"
   ]
  },
  {
   "cell_type": "code",
   "execution_count": null,
   "metadata": {},
   "outputs": [],
   "source": []
  }
 ],
 "metadata": {
  "kernelspec": {
   "display_name": "Python 3",
   "language": "python",
   "name": "python3"
  },
  "language_info": {
   "codemirror_mode": {
    "name": "ipython",
    "version": 3
   },
   "file_extension": ".py",
   "mimetype": "text/x-python",
   "name": "python",
   "nbconvert_exporter": "python",
   "pygments_lexer": "ipython3",
   "version": "3.6.5"
  }
 },
 "nbformat": 4,
 "nbformat_minor": 2
}
